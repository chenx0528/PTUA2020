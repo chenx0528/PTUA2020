{
 "cells": [
  {
   "cell_type": "code",
   "execution_count": 1,
   "metadata": {},
   "outputs": [],
   "source": [
    "import random\n",
    "import math\n",
    "import matplotlib.pyplot as plt"
   ]
  },
  {
   "cell_type": "code",
   "execution_count": 2,
   "metadata": {},
   "outputs": [],
   "source": [
    "pi = math.pi"
   ]
  },
  {
   "cell_type": "code",
   "execution_count": null,
   "metadata": {},
   "outputs": [],
   "source": [
    "n = 0 \n",
    "d = 0 \n",
    "count = 10\n",
    "outcomes = []\n",
    "simulating = True\n",
    "while simulating:\n",
    "    x = random.random()\n",
    "    y = random.random()\n",
    "    if x**2 + y**2 <= 1.0:\n",
    "        n += 1\n",
    "    d += 1\n",
    "    ratio = 4 * n * 1./d\n",
    "    print (ratio)\n",
    "    if abs(ratio-pi) / pi <= 0.00001:\n",
    "        count -= 1\n",
    "        outcomes.append(ratio)\n",
    "    if count == 0:\n",
    "        print(outcomes)\n",
    "        break\n",
    "mean = np.mean(outcomes)\n",
    "sd = np.std(outcomes)"
   ]
  },
  {
   "cell_type": "code",
   "execution_count": null,
   "metadata": {},
   "outputs": [],
   "source": [
    "n = 0 \n",
    "d = 0 \n",
    "count = 10\n",
    "outcomes = []\n",
    "simulating = True\n",
    "while simulating:\n",
    "    x = random.random()\n",
    "    y = random.random()\n",
    "    if x**2 + y**2 <= 1.0:\n",
    "        n += 1\n",
    "    d += 1\n",
    "    ratio = 4 * n * 1./d\n",
    "    print (ratio)\n",
    "    if abs(ratio-pi) / pi <= 0.01:\n",
    "        count -= 1\n",
    "        outcomes.append(ratio)\n",
    "    if count == 0:\n",
    "        print(outcomes)\n",
    "print(mean = np.mean(outcomes))\n",
    "print(sd = np.std(outcomes))\n",
    "        break"
   ]
  },
  {
   "cell_type": "code",
   "execution_count": null,
   "metadata": {},
   "outputs": [],
   "source": [
    "n = 0 \n",
    "d = 0 \n",
    "count = 10\n",
    "outcomes = []\n",
    "simulating = True\n",
    "while simulating:\n",
    "    x = random.random()\n",
    "    y = random.random()\n",
    "    if x**2 + y**2 <= 1.0:\n",
    "        n += 1\n",
    "    d += 1\n",
    "    ratio = 4 * n * 1./d\n",
    "    print (ratio)\n",
    "    if abs(ratio-pi) / pi <= 0.001:\n",
    "        count -= 1\n",
    "        outcomes.append(ratio)\n",
    "    if count == 0:\n",
    "        print(outcomes)\n",
    "        break\n"
   ]
  },
  {
   "cell_type": "code",
   "execution_count": null,
   "metadata": {},
   "outputs": [],
   "source": [
    "n = 0 \n",
    "d = 0 \n",
    "count = 10\n",
    "outcomes = []\n",
    "simulating = True\n",
    "while simulating:\n",
    "    x = random.random()\n",
    "    y = random.random()\n",
    "    if x**2 + y**2 <= 1.0:\n",
    "        n += 1\n",
    "    d += 1\n",
    "    ratio = 4 * n * 1./d\n",
    "    print (ratio)\n",
    "    if abs(ratio-pi) / pi <= 0.0001:\n",
    "        count -= 1\n",
    "        outcomes.append(ratio)\n",
    "    if count == 0:\n",
    "        print(outcomes)\n",
    "        break\n",
    "print(mean = np.mean(outcomes))\n",
    "print(sd = np.std(outcomes))"
   ]
  }
 ],
 "metadata": {
  "kernelspec": {
   "display_name": "Python 3",
   "language": "python",
   "name": "python3"
  },
  "language_info": {
   "codemirror_mode": {
    "name": "ipython",
    "version": 3
   },
   "file_extension": ".py",
   "mimetype": "text/x-python",
   "name": "python",
   "nbconvert_exporter": "python",
   "pygments_lexer": "ipython3",
   "version": "3.6.7"
  }
 },
 "nbformat": 4,
 "nbformat_minor": 2
}
